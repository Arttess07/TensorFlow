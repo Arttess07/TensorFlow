{
 "cells": [
  {
   "cell_type": "markdown",
   "metadata": {
    "colab_type": "text",
    "id": "ZL_6GK8qX35J"
   },
   "source": [
    "# Introducción: Modelo Mixto para Clasificar y Predecir calidad y tipo de vino\n",
    "\n",
    "En este proyecto vamos a realizar un modelo que pueda pronosticar la calidad de un vino calificáncolo del 1 al 10 y clasificando si el vino corresponde al tipo de vino blanco o rojo.\n",
    "Para esta tarea necesitaremos crear un modelo que tome las características de los products y nos de como resultado dos outputs.\n",
    "En este caso utilizaremos un modelo funcional personalizado para lograr resolver la tarea esperada.\n",
    "\n",
    "Estos son los pasos a seguir para completar la tarea:\n",
    "\n",
    "1. Importar librerías para la creación del modelo.\n",
    "2. Limpia y transformación de datos.\n",
    "3. Creación y normalización de datasets.\n",
    "4. Construcción del modelo y compilación.\n",
    "5. Entrenamiento del modelo, validación de presición y métricas de error."
   ]
  },
  {
   "cell_type": "markdown",
   "metadata": {
    "colab_type": "text",
    "id": "obdcD6urYBY9"
   },
   "source": [
    "# 1. Importación de librerías\n",
    "\n",
    "Para esta tarea utilizaremos un modelo personalizado utilizando la librería TensorFlow.\n",
    "También necesitaremos librerías para visualizar nuestra data y validar resultados de entrenamiento."
   ]
  },
  {
   "cell_type": "code",
   "execution_count": 1,
   "metadata": {
    "colab": {},
    "colab_type": "code",
    "id": "t8N3pcTQ5oQI"
   },
   "outputs": [],
   "source": [
    "import tensorflow as tf\n",
    "from tensorflow.keras.models import Model\n",
    "from tensorflow.keras.layers import Dense, Input\n",
    "\n",
    "import numpy as np\n",
    "import matplotlib.pyplot as plt\n",
    "import pandas as pd\n",
    "from sklearn.model_selection import train_test_split\n",
    "from sklearn.metrics import confusion_matrix, ConfusionMatrixDisplay\n",
    "import itertools\n",
    "from sklearn.utils import shuffle"
   ]
  },
  {
   "cell_type": "markdown",
   "metadata": {
    "colab_type": "text",
    "id": "gQMERzWQYpgm"
   },
   "source": [
    "# 2. Limpia y transformación de datos\n",
    "\n",
    "Vamos a utilizar una base de datos gratuita encontrada en UCI Machine Learning Repository.\n",
    "Esta base de datos contiene características de vinos blancos y rojos.\n",
    "Debemos cargar las bases de datos de vinos blancos y rojos por separado y agregar una columna que indique que tipo de vino es según la base de datos."
   ]
  },
  {
   "cell_type": "code",
   "execution_count": 2,
   "metadata": {
    "colab": {},
    "colab_type": "code",
    "deletable": false,
    "id": "2qYAjKXCd4RH",
    "nbgrader": {
     "cell_type": "code",
     "checksum": "325ea195519b7035934c95bb529a062c",
     "grade": false,
     "grade_id": "cell-e5bfa0f152d9a21f",
     "locked": false,
     "schema_version": 3,
     "solution": true,
     "task": false
    }
   },
   "outputs": [],
   "source": [
    "URI = './winequality-white.csv'\n",
    "white_df = pd.read_csv(URI, sep=\";\")\n",
    "white_df[\"is_red\"] = 0\n",
    "white_df = white_df.drop_duplicates(keep='first')"
   ]
  },
  {
   "cell_type": "code",
   "execution_count": 3,
   "metadata": {
    "colab": {},
    "colab_type": "code",
    "deletable": false,
    "id": "8y3QxKwBed8v",
    "nbgrader": {
     "cell_type": "code",
     "checksum": "12e0963d15be33b01b4e6ebc8945e51e",
     "grade": false,
     "grade_id": "cell-e47a40f306593274",
     "locked": false,
     "schema_version": 3,
     "solution": true,
     "task": false
    }
   },
   "outputs": [],
   "source": [
    "URI = './winequality-red.csv'\n",
    "red_df = pd.read_csv(URI, sep=\";\")\n",
    "red_df[\"is_red\"] = 1\n",
    "red_df = red_df.drop_duplicates(keep='first')"
   ]
  },
  {
   "cell_type": "code",
   "execution_count": 4,
   "metadata": {
    "colab": {},
    "colab_type": "code",
    "id": "YpQrOjJbfN3m"
   },
   "outputs": [],
   "source": [
    "# Concatenamos las bases de datos para unir toda la data\n",
    "df = pd.concat([red_df, white_df], ignore_index=True)"
   ]
  },
  {
   "cell_type": "code",
   "execution_count": 5,
   "metadata": {},
   "outputs": [],
   "source": [
    "# Mezclamos la data al azar para entrenar el modelo de manera más eficiente\n",
    "df = df.iloc[np.random.permutation(len(df))]"
   ]
  },
  {
   "cell_type": "code",
   "execution_count": 6,
   "metadata": {
    "colab": {},
    "colab_type": "code",
    "id": "IsvK0-Sgy17C"
   },
   "outputs": [
    {
     "data": {
      "image/png": "[encoded data removed]",
      "text/plain": [
       "<Figure size 640x480 with 1 Axes>"
      ]
     },
     "metadata": {},
     "output_type": "display_data"
    }
   ],
   "source": [
    "# Revisamos la disperción de calidad del modelo\n",
    "df['quality'].hist(bins=20);"
   ]
  },
  {
   "cell_type": "markdown",
   "metadata": {
    "colab_type": "text",
    "id": "Nut1rmYLzf-p"
   },
   "source": [
    "Podemos observar que tenemos un gran desbalance de clases, vamos a realizar el método bootstrapping para tener más información sobre las clases raras.\n",
    "De esta manera podremos entrenar el modelo de manera más eficiente."
   ]
  },
  {
   "cell_type": "code",
   "execution_count": null,
   "metadata": {},
   "outputs": [],
   "source": [
    "# Definimos función para que la clase rara se vuelva más relevante\n",
    "def up_sample(df, n1, n2, n3, n4, repeat):\n",
    "    df_repeat = df[df['quality'].isin([n1, n2, n3, n4])]\n",
    "\n",
    "    df_repeat = df_repeat.sample(n=repeat * len(df_repeat), replace=True, random_state=12345)\n",
    "\n",
    "    df_up = pd.concat([df, df_repeat], axis=0).reset_index(drop=True)\n",
    "\n",
    "    df_up = shuffle(df_up, random_state=12345)\n",
    "\n",
    "    return df_up"
   ]
  },
  {
   "cell_type": "code",
   "execution_count": 10,
   "metadata": {},
   "outputs": [],
   "source": [
    "df_up = up_sample(df, 3, 4, 8, 9, 4)"
   ]
  },
  {
   "cell_type": "code",
   "execution_count": 11,
   "metadata": {
    "colab": {},
    "colab_type": "code",
    "id": "857ygzZiLgGg"
   },
   "outputs": [
    {
     "data": {
      "image/png": "[encoded data removed]",
      "text/plain": [
       "<Figure size 640x480 with 1 Axes>"
      ]
     },
     "metadata": {},
     "output_type": "display_data"
    }
   ],
   "source": [
    "df_up['quality'].hist(bins=20);"
   ]
  },
  {
   "cell_type": "markdown",
   "metadata": {},
   "source": [
    "Como podemos observar subieron la cantidad de datos que tenemos por clase rara.\n",
    "En este caso los vinos con calidad 3 y 9 siguen siendo bastante raros, así que el modelo se podrías sesgar a calificar los vinos con valores intermedios a estos."
   ]
  },
  {
   "cell_type": "markdown",
   "metadata": {
    "colab_type": "text",
    "id": "bGPvt9jir_HC"
   },
   "source": [
    "# 3. Creación y normalización de data sets.\n",
    "\n",
    "En esta sección vamos a crear nuestros datasets para entrenar, validar y probar nuestro modelo.\n",
    "También vamos a normalizar la data de tal manera que todo sea escalado usando la desviación estándar y el promedio de los datos.\n",
    "La escalamos de tal manera qye se normalice en un intervalo de 0 y 1."
   ]
  },
  {
   "cell_type": "code",
   "execution_count": null,
   "metadata": {
    "colab": {},
    "colab_type": "code",
    "deletable": false,
    "id": "PAVIf2-fgRVY",
    "nbgrader": {
     "cell_type": "code",
     "checksum": "7f5738f4fb51d65adc9a8acbdf2b9970",
     "grade": false,
     "grade_id": "cell-91946cadf745206b",
     "locked": false,
     "schema_version": 3,
     "solution": true,
     "task": false
    }
   },
   "outputs": [],
   "source": [
    "# Creamos nuestros datasets para el modelo\n",
    "train, test = train_test_split(df_up, test_size=0.20, random_state = 1)\n",
    "train, val = train_test_split(train, test_size=0.20, random_state = 1)"
   ]
  },
  {
   "cell_type": "code",
   "execution_count": 13,
   "metadata": {
    "colab": {},
    "colab_type": "code",
    "id": "Y_afyhhHM6WQ"
   },
   "outputs": [],
   "source": [
    "train_stats = train.describe()\n",
    "train_stats.pop('is_red')\n",
    "train_stats.pop('quality')\n",
    "train_stats = train_stats.transpose()"
   ]
  },
  {
   "cell_type": "code",
   "execution_count": 14,
   "metadata": {
    "colab": {},
    "colab_type": "code",
    "id": "n_gAtPjZ0otF"
   },
   "outputs": [
    {
     "data": {
      "text/html": [
       "<div>\n",
       "<style scoped>\n",
       "    .dataframe tbody tr th:only-of-type {\n",
       "        vertical-align: middle;\n",
       "    }\n",
       "\n",
       "    .dataframe tbody tr th {\n",
       "        vertical-align: top;\n",
       "    }\n",
       "\n",
       "    .dataframe thead th {\n",
       "        text-align: right;\n",
       "    }\n",
       "</style>\n",
       "<table border=\"1\" class=\"dataframe\">\n",
       "  <thead>\n",
       "    <tr style=\"text-align: right;\">\n",
       "      <th></th>\n",
       "      <th>count</th>\n",
       "      <th>mean</th>\n",
       "      <th>std</th>\n",
       "      <th>min</th>\n",
       "      <th>25%</th>\n",
       "      <th>50%</th>\n",
       "      <th>75%</th>\n",
       "      <th>max</th>\n",
       "    </tr>\n",
       "  </thead>\n",
       "  <tbody>\n",
       "    <tr>\n",
       "      <th>fixed acidity</th>\n",
       "      <td>4400.0</td>\n",
       "      <td>7.200125</td>\n",
       "      <td>1.300526</td>\n",
       "      <td>3.80000</td>\n",
       "      <td>6.40000</td>\n",
       "      <td>7.0000</td>\n",
       "      <td>7.7000</td>\n",
       "      <td>15.60000</td>\n",
       "    </tr>\n",
       "    <tr>\n",
       "      <th>volatile acidity</th>\n",
       "      <td>4400.0</td>\n",
       "      <td>0.357019</td>\n",
       "      <td>0.181937</td>\n",
       "      <td>0.08000</td>\n",
       "      <td>0.23875</td>\n",
       "      <td>0.3000</td>\n",
       "      <td>0.4300</td>\n",
       "      <td>1.58000</td>\n",
       "    </tr>\n",
       "    <tr>\n",
       "      <th>citric acid</th>\n",
       "      <td>4400.0</td>\n",
       "      <td>0.315695</td>\n",
       "      <td>0.148334</td>\n",
       "      <td>0.00000</td>\n",
       "      <td>0.24000</td>\n",
       "      <td>0.3100</td>\n",
       "      <td>0.4000</td>\n",
       "      <td>1.00000</td>\n",
       "    </tr>\n",
       "    <tr>\n",
       "      <th>residual sugar</th>\n",
       "      <td>4400.0</td>\n",
       "      <td>4.924739</td>\n",
       "      <td>4.409930</td>\n",
       "      <td>0.70000</td>\n",
       "      <td>1.70000</td>\n",
       "      <td>2.7000</td>\n",
       "      <td>7.1000</td>\n",
       "      <td>65.80000</td>\n",
       "    </tr>\n",
       "    <tr>\n",
       "      <th>chlorides</th>\n",
       "      <td>4400.0</td>\n",
       "      <td>0.055601</td>\n",
       "      <td>0.035616</td>\n",
       "      <td>0.01200</td>\n",
       "      <td>0.03700</td>\n",
       "      <td>0.0470</td>\n",
       "      <td>0.0650</td>\n",
       "      <td>0.61000</td>\n",
       "    </tr>\n",
       "    <tr>\n",
       "      <th>free sulfur dioxide</th>\n",
       "      <td>4400.0</td>\n",
       "      <td>29.479091</td>\n",
       "      <td>20.216076</td>\n",
       "      <td>1.00000</td>\n",
       "      <td>15.00000</td>\n",
       "      <td>27.0000</td>\n",
       "      <td>40.0000</td>\n",
       "      <td>289.00000</td>\n",
       "    </tr>\n",
       "    <tr>\n",
       "      <th>total sulfur dioxide</th>\n",
       "      <td>4400.0</td>\n",
       "      <td>113.352159</td>\n",
       "      <td>58.531048</td>\n",
       "      <td>6.00000</td>\n",
       "      <td>73.00000</td>\n",
       "      <td>114.0000</td>\n",
       "      <td>154.0000</td>\n",
       "      <td>440.00000</td>\n",
       "    </tr>\n",
       "    <tr>\n",
       "      <th>density</th>\n",
       "      <td>4400.0</td>\n",
       "      <td>0.994339</td>\n",
       "      <td>0.003009</td>\n",
       "      <td>0.98713</td>\n",
       "      <td>0.99198</td>\n",
       "      <td>0.9944</td>\n",
       "      <td>0.9966</td>\n",
       "      <td>1.03898</td>\n",
       "    </tr>\n",
       "    <tr>\n",
       "      <th>pH</th>\n",
       "      <td>4400.0</td>\n",
       "      <td>3.227125</td>\n",
       "      <td>0.163334</td>\n",
       "      <td>2.72000</td>\n",
       "      <td>3.11000</td>\n",
       "      <td>3.2200</td>\n",
       "      <td>3.3300</td>\n",
       "      <td>3.90000</td>\n",
       "    </tr>\n",
       "    <tr>\n",
       "      <th>sulphates</th>\n",
       "      <td>4400.0</td>\n",
       "      <td>0.525420</td>\n",
       "      <td>0.151039</td>\n",
       "      <td>0.22000</td>\n",
       "      <td>0.43000</td>\n",
       "      <td>0.5000</td>\n",
       "      <td>0.6000</td>\n",
       "      <td>2.00000</td>\n",
       "    </tr>\n",
       "    <tr>\n",
       "      <th>alcohol</th>\n",
       "      <td>4400.0</td>\n",
       "      <td>10.634529</td>\n",
       "      <td>1.234287</td>\n",
       "      <td>8.00000</td>\n",
       "      <td>9.60000</td>\n",
       "      <td>10.5000</td>\n",
       "      <td>11.5000</td>\n",
       "      <td>14.20000</td>\n",
       "    </tr>\n",
       "  </tbody>\n",
       "</table>\n",
       "</div>"
      ],
      "text/plain": [
       "                       count        mean        std      min       25%  \\\n",
       "fixed acidity         4400.0    7.200125   1.300526  3.80000   6.40000   \n",
       "volatile acidity      4400.0    0.357019   0.181937  0.08000   0.23875   \n",
       "citric acid           4400.0    0.315695   0.148334  0.00000   0.24000   \n",
       "residual sugar        4400.0    4.924739   4.409930  0.70000   1.70000   \n",
       "chlorides             4400.0    0.055601   0.035616  0.01200   0.03700   \n",
       "free sulfur dioxide   4400.0   29.479091  20.216076  1.00000  15.00000   \n",
       "total sulfur dioxide  4400.0  113.352159  58.531048  6.00000  73.00000   \n",
       "density               4400.0    0.994339   0.003009  0.98713   0.99198   \n",
       "pH                    4400.0    3.227125   0.163334  2.72000   3.11000   \n",
       "sulphates             4400.0    0.525420   0.151039  0.22000   0.43000   \n",
       "alcohol               4400.0   10.634529   1.234287  8.00000   9.60000   \n",
       "\n",
       "                           50%       75%        max  \n",
       "fixed acidity           7.0000    7.7000   15.60000  \n",
       "volatile acidity        0.3000    0.4300    1.58000  \n",
       "citric acid             0.3100    0.4000    1.00000  \n",
       "residual sugar          2.7000    7.1000   65.80000  \n",
       "chlorides               0.0470    0.0650    0.61000  \n",
       "free sulfur dioxide    27.0000   40.0000  289.00000  \n",
       "total sulfur dioxide  114.0000  154.0000  440.00000  \n",
       "density                 0.9944    0.9966    1.03898  \n",
       "pH                      3.2200    3.3300    3.90000  \n",
       "sulphates               0.5000    0.6000    2.00000  \n",
       "alcohol                10.5000   11.5000   14.20000  "
      ]
     },
     "execution_count": 14,
     "metadata": {},
     "output_type": "execute_result"
    }
   ],
   "source": [
    "train_stats"
   ]
  },
  {
   "cell_type": "markdown",
   "metadata": {},
   "source": [
    "Como podemos observar aqui exploramos la data de entrenamiento.\n",
    "Vemos uns descripción de nuestra data para sacar los promedios y desviación estandar que se van a utilizar para nuestra normalización."
   ]
  },
  {
   "cell_type": "code",
   "execution_count": null,
   "metadata": {
    "colab": {},
    "colab_type": "code",
    "id": "Z_fs14XQqZVP"
   },
   "outputs": [],
   "source": [
    "# Definimos una fórmula para crear los \"labels\" u objetivos de entrenamiento\n",
    "def format_output(data):\n",
    "    is_red = data.pop('is_red')\n",
    "    is_red = np.array(is_red)\n",
    "    quality = data.pop('quality')\n",
    "    quality = np.array(quality)\n",
    "    return (quality, is_red)"
   ]
  },
  {
   "cell_type": "code",
   "execution_count": 16,
   "metadata": {
    "colab": {},
    "colab_type": "code",
    "deletable": false,
    "id": "8L3ZZe1fQicm",
    "nbgrader": {
     "cell_type": "code",
     "checksum": "7a86809e54895a816434c48dc903f55d",
     "grade": false,
     "grade_id": "cell-5c30fa2c2a354b0f",
     "locked": false,
     "schema_version": 3,
     "solution": true,
     "task": false
    }
   },
   "outputs": [],
   "source": [
    "train_Y = format_output(train)\n",
    "\n",
    "val_Y = format_output(val)\n",
    "    \n",
    "test_Y = format_output(test)"
   ]
  },
  {
   "cell_type": "markdown",
   "metadata": {},
   "source": [
    "Al utilizar nuestra fórmula para crear los labels podemos observar que las columnas objetivo ya no se encuentran dentro de nuestro dataset de entrenamiento.\n",
    "Esto pasa de la misma forma para el resto de los datasets."
   ]
  },
  {
   "cell_type": "code",
   "execution_count": 17,
   "metadata": {},
   "outputs": [
    {
     "data": {
      "text/html": [
       "<div>\n",
       "<style scoped>\n",
       "    .dataframe tbody tr th:only-of-type {\n",
       "        vertical-align: middle;\n",
       "    }\n",
       "\n",
       "    .dataframe tbody tr th {\n",
       "        vertical-align: top;\n",
       "    }\n",
       "\n",
       "    .dataframe thead th {\n",
       "        text-align: right;\n",
       "    }\n",
       "</style>\n",
       "<table border=\"1\" class=\"dataframe\">\n",
       "  <thead>\n",
       "    <tr style=\"text-align: right;\">\n",
       "      <th></th>\n",
       "      <th>fixed acidity</th>\n",
       "      <th>volatile acidity</th>\n",
       "      <th>citric acid</th>\n",
       "      <th>residual sugar</th>\n",
       "      <th>chlorides</th>\n",
       "      <th>free sulfur dioxide</th>\n",
       "      <th>total sulfur dioxide</th>\n",
       "      <th>density</th>\n",
       "      <th>pH</th>\n",
       "      <th>sulphates</th>\n",
       "      <th>alcohol</th>\n",
       "    </tr>\n",
       "  </thead>\n",
       "  <tbody>\n",
       "    <tr>\n",
       "      <th>878</th>\n",
       "      <td>7.1</td>\n",
       "      <td>0.26</td>\n",
       "      <td>0.19</td>\n",
       "      <td>8.2</td>\n",
       "      <td>0.051</td>\n",
       "      <td>53.0</td>\n",
       "      <td>187.0</td>\n",
       "      <td>0.99600</td>\n",
       "      <td>3.16</td>\n",
       "      <td>0.52</td>\n",
       "      <td>9.7</td>\n",
       "    </tr>\n",
       "    <tr>\n",
       "      <th>3899</th>\n",
       "      <td>9.2</td>\n",
       "      <td>0.59</td>\n",
       "      <td>0.24</td>\n",
       "      <td>3.3</td>\n",
       "      <td>0.101</td>\n",
       "      <td>20.0</td>\n",
       "      <td>47.0</td>\n",
       "      <td>0.99880</td>\n",
       "      <td>3.26</td>\n",
       "      <td>0.67</td>\n",
       "      <td>9.6</td>\n",
       "    </tr>\n",
       "    <tr>\n",
       "      <th>3134</th>\n",
       "      <td>6.6</td>\n",
       "      <td>0.27</td>\n",
       "      <td>0.52</td>\n",
       "      <td>8.1</td>\n",
       "      <td>0.044</td>\n",
       "      <td>53.0</td>\n",
       "      <td>202.0</td>\n",
       "      <td>0.99548</td>\n",
       "      <td>3.18</td>\n",
       "      <td>0.48</td>\n",
       "      <td>9.5</td>\n",
       "    </tr>\n",
       "    <tr>\n",
       "      <th>4789</th>\n",
       "      <td>7.1</td>\n",
       "      <td>0.30</td>\n",
       "      <td>0.49</td>\n",
       "      <td>1.6</td>\n",
       "      <td>0.045</td>\n",
       "      <td>31.0</td>\n",
       "      <td>100.0</td>\n",
       "      <td>0.99420</td>\n",
       "      <td>3.40</td>\n",
       "      <td>0.59</td>\n",
       "      <td>10.2</td>\n",
       "    </tr>\n",
       "    <tr>\n",
       "      <th>6618</th>\n",
       "      <td>6.0</td>\n",
       "      <td>0.59</td>\n",
       "      <td>0.00</td>\n",
       "      <td>0.8</td>\n",
       "      <td>0.037</td>\n",
       "      <td>30.0</td>\n",
       "      <td>95.0</td>\n",
       "      <td>0.99032</td>\n",
       "      <td>3.10</td>\n",
       "      <td>0.40</td>\n",
       "      <td>10.9</td>\n",
       "    </tr>\n",
       "  </tbody>\n",
       "</table>\n",
       "</div>"
      ],
      "text/plain": [
       "      fixed acidity  volatile acidity  citric acid  residual sugar  chlorides  \\\n",
       "878             7.1              0.26         0.19             8.2      0.051   \n",
       "3899            9.2              0.59         0.24             3.3      0.101   \n",
       "3134            6.6              0.27         0.52             8.1      0.044   \n",
       "4789            7.1              0.30         0.49             1.6      0.045   \n",
       "6618            6.0              0.59         0.00             0.8      0.037   \n",
       "\n",
       "      free sulfur dioxide  total sulfur dioxide  density    pH  sulphates  \\\n",
       "878                  53.0                 187.0  0.99600  3.16       0.52   \n",
       "3899                 20.0                  47.0  0.99880  3.26       0.67   \n",
       "3134                 53.0                 202.0  0.99548  3.18       0.48   \n",
       "4789                 31.0                 100.0  0.99420  3.40       0.59   \n",
       "6618                 30.0                  95.0  0.99032  3.10       0.40   \n",
       "\n",
       "      alcohol  \n",
       "878       9.7  \n",
       "3899      9.6  \n",
       "3134      9.5  \n",
       "4789     10.2  \n",
       "6618     10.9  "
      ]
     },
     "execution_count": 17,
     "metadata": {},
     "output_type": "execute_result"
    }
   ],
   "source": [
    "train.head()"
   ]
  },
  {
   "cell_type": "markdown",
   "metadata": {
    "colab_type": "text",
    "id": "hEdbrruAsN1D"
   },
   "source": [
    "## 3.1 Normalización de la data\n",
    "\n",
    "Es muy importante normalizar la data ya que esto hace más sencillo el entrenamiento del modelo. El resultado nos deja un set de data que le resulta al modelo más sencillo de procesar.\n",
    "Para normalizar la data vamos a restar el promedio de nuestras características a el valor total de las características y dividirlo por su desviación estándar.\n",
    "\n",
    "Al restar el promedio estamos centrando la data a un valor más cercano al 0 y al dividirla por la desviación estándar estamos normalizando la información.\n",
    "\n",
    "$$x_{norm} = \\frac{x - \\mu}{\\sigma}$$"
   ]
  },
  {
   "cell_type": "code",
   "execution_count": 18,
   "metadata": {
    "colab": {},
    "colab_type": "code",
    "id": "WWiZPAHCLjUs"
   },
   "outputs": [],
   "source": [
    "# Definimos fórmula para normalizar datasets\n",
    "def norm(x):\n",
    "    return (x - train_stats['mean']) / train_stats['std']"
   ]
  },
  {
   "cell_type": "code",
   "execution_count": 20,
   "metadata": {
    "colab": {},
    "colab_type": "code",
    "deletable": false,
    "id": "JEaOi2I2Lk69",
    "nbgrader": {
     "cell_type": "code",
     "checksum": "6bc0cdcb563d192f271067aa3373ff32",
     "grade": false,
     "grade_id": "cell-d8416d975c371095",
     "locked": false,
     "schema_version": 3,
     "solution": true,
     "task": false
    }
   },
   "outputs": [],
   "source": [
    "norm_train_X = norm(train)\n",
    "    \n",
    "norm_val_X = norm(val)\n",
    "    \n",
    "norm_test_X = norm(test)"
   ]
  },
  {
   "cell_type": "markdown",
   "metadata": {
    "colab_type": "text",
    "id": "hzykDwQhsaPO"
   },
   "source": [
    "# 4. Construcción del modelo y compilación\n",
    "\n",
    "En esta sección vamos a construir la base de nuestro modelo, especificando las capas de entrenamiento, los inputs, el resultado que esperamos y lo vamos a compilar con mñetricas de error y validación."
   ]
  },
  {
   "cell_type": "code",
   "execution_count": 21,
   "metadata": {
    "colab": {},
    "colab_type": "code",
    "deletable": false,
    "id": "Rhcns3oTFkM6",
    "nbgrader": {
     "cell_type": "code",
     "checksum": "74b031247e569526552bf13a034a1c07",
     "grade": false,
     "grade_id": "cell-73fceedad1fe351c",
     "locked": false,
     "schema_version": 3,
     "solution": true,
     "task": false
    }
   },
   "outputs": [],
   "source": [
    "# Definimos una fórmula que contenga la base de nuestro modelo, capa capa tendrá una capa de neuronas de 128 unidad y una activación relu.\n",
    "def base_model(inputs):\n",
    "    x = Dense(units=128, activation='relu')(inputs)\n",
    "    x = Dense(units=128, activation='relu')(x)\n",
    "    return x"
   ]
  },
  {
   "cell_type": "markdown",
   "metadata": {
    "colab_type": "text",
    "id": "xem_fcVws6Kz"
   },
   "source": [
    "## 4.1 Definición del output\n",
    "\n",
    "Este modelo tendrá dos capas de output, una de calidad y una de tipo. Ya que son dos outputs distintos necesitaremos que uno nos ayude con una regresión y el otro con la clasificación del modelo.\n",
    "\n",
    "Dejamos la última capa con una neurona que definirá el resultado de nuestro objetivo.\n",
    "\n",
    "Una de las capas será usada pata la regresión de la calidad del vino.\n",
    "\n",
    "La otra capa será de clarificación del tipo de vino, usamos una activación sigmoide para ayudar a clasificar el tipo de vino usando probabilidad."
   ]
  },
  {
   "cell_type": "code",
   "execution_count": 25,
   "metadata": {
    "colab": {},
    "colab_type": "code",
    "deletable": false,
    "id": "n5UGF8PMVLPt",
    "nbgrader": {
     "cell_type": "code",
     "checksum": "76d35b90d20cdcbb22986cd8211057de",
     "grade": false,
     "grade_id": "cell-19e285f482f021fb",
     "locked": false,
     "schema_version": 3,
     "solution": true,
     "task": false
    }
   },
   "outputs": [],
   "source": [
    "# Definimos fórmula para crear nuestro modelo final\n",
    "def final_model(inputs):\n",
    "    x = base_model(inputs)\n",
    "    wine_quality = Dense(units=1, name='wine_quality')(x)\n",
    "    wine_type = Dense(units=1, activation='sigmoid', name='wine_type')(x)\n",
    "    model = Model(inputs=inputs, outputs=[wine_quality, wine_type])\n",
    "    return model"
   ]
  },
  {
   "cell_type": "markdown",
   "metadata": {
    "colab_type": "text",
    "id": "5R0BMTsltZyu"
   },
   "source": [
    "## 4.2 Compilación del modelo.\n",
    "\n",
    "Ahora es tiempo de compilar nuestro modelo, en esta sección vamos a agregar las métricas de error, de validación de precisión y un optimizador de descenso de gradiante.\n",
    "\n",
    "- Creamos la capa de input para darle forma al modelo.\n",
    "- Utilizamos RMSprop como optimizador usando retropropagación para ajustar pesos de las neuronas y calculando el error capa por capa.\n",
    "- Como métrica de error para tipo de vino usamos binary_correntropy el cual mide la distancia entre la predicción y el objetivo real; para calidad usaremos el promedio cuadrado de desviación MSE.\n",
    "- Como metricas de precición para tipo de vino usaremos binary_accurancy saca la proporción de predicciones positivas contra negativas, para calidad usaremos la raíz cuadrar del promedio cuadrado de desviación para medir que tan lejos están las predicciones de la realidad."
   ]
  },
  {
   "cell_type": "code",
   "execution_count": 26,
   "metadata": {
    "colab": {},
    "colab_type": "code",
    "deletable": false,
    "id": "LK11duUbUjmh",
    "nbgrader": {
     "cell_type": "code",
     "checksum": "22f45067ca69eb2ccadb43874dbcc27b",
     "grade": false,
     "grade_id": "cell-81afdc4dcca51d5e",
     "locked": false,
     "schema_version": 3,
     "solution": true,
     "task": false
    }
   },
   "outputs": [],
   "source": [
    "inputs = tf.keras.layers.Input(shape=(11,))\n",
    "rms = tf.keras.optimizers.RMSprop(learning_rate=0.0001)\n",
    "model = final_model(inputs)\n",
    "\n",
    "model.compile(optimizer=rms, \n",
    "               loss = {'wine_type' : 'binary_crossentropy',\n",
    "                       'wine_quality' : 'mse'\n",
    "                      },\n",
    "               metrics = {'wine_type' : 'binary_accuracy',\n",
    "                          'wine_quality': tf.keras.metrics.RootMeanSquaredError()\n",
    "                        }\n",
    "              )"
   ]
  },
  {
   "cell_type": "markdown",
   "metadata": {
    "colab_type": "text",
    "id": "90MpAMpWuKm-"
   },
   "source": [
    "# 5. Entrenamiento del modelo, validación y visualización\n",
    "\n",
    "Ya que tenemos nuestro model construido y compilado ya podemos entrenarlo y medir que tan bueno es su funcionamiento.\n",
    "En esta seccion prepararemos gráficas que nos ayuden a visualizar como se comporta el modelo al ser entrenado."
   ]
  },
  {
   "cell_type": "code",
   "execution_count": 27,
   "metadata": {
    "colab": {},
    "colab_type": "code",
    "deletable": false,
    "id": "_eiZkle4XwiY",
    "nbgrader": {
     "cell_type": "code",
     "checksum": "d1a4565296017a0611c6f2de675f96cf",
     "grade": false,
     "grade_id": "cell-0bb56262896f6680",
     "locked": false,
     "schema_version": 3,
     "solution": true,
     "task": false
    }
   },
   "outputs": [
    {
     "name": "stdout",
     "output_type": "stream",
     "text": [
      "Epoch 1/40\n",
      "\u001b[1m138/138\u001b[0m \u001b[32m━━━━━━━━━━━━━━━━━━━━\u001b[0m\u001b[37m\u001b[0m \u001b[1m2s\u001b[0m 4ms/step - loss: 26.1893 - wine_quality_loss: 25.4743 - wine_quality_root_mean_squared_error: 5.0398 - wine_type_binary_accuracy: 0.4520 - wine_type_loss: 0.7145 - val_loss: 12.7923 - val_wine_quality_loss: 12.1546 - val_wine_quality_root_mean_squared_error: 3.4781 - val_wine_type_binary_accuracy: 0.5018 - val_wine_type_loss: 0.6955\n",
      "Epoch 2/40\n",
      "\u001b[1m138/138\u001b[0m \u001b[32m━━━━━━━━━━━━━━━━━━━━\u001b[0m\u001b[37m\u001b[0m \u001b[1m0s\u001b[0m 2ms/step - loss: 10.1898 - wine_quality_loss: 9.5123 - wine_quality_root_mean_squared_error: 3.0762 - wine_type_binary_accuracy: 0.5949 - wine_type_loss: 0.6773 - val_loss: 4.8746 - val_wine_quality_loss: 4.3743 - val_wine_quality_root_mean_squared_error: 2.0703 - val_wine_type_binary_accuracy: 0.8055 - val_wine_type_loss: 0.5886\n",
      "Epoch 3/40\n",
      "\u001b[1m138/138\u001b[0m \u001b[32m━━━━━━━━━━━━━━━━━━━━\u001b[0m\u001b[37m\u001b[0m \u001b[1m0s\u001b[0m 2ms/step - loss: 4.6952 - wine_quality_loss: 4.1540 - wine_quality_root_mean_squared_error: 2.0371 - wine_type_binary_accuracy: 0.8025 - wine_type_loss: 0.5410 - val_loss: 3.5060 - val_wine_quality_loss: 3.1444 - val_wine_quality_root_mean_squared_error: 1.7531 - val_wine_type_binary_accuracy: 0.8236 - val_wine_type_loss: 0.4326\n",
      "Epoch 4/40\n",
      "\u001b[1m138/138\u001b[0m \u001b[32m━━━━━━━━━━━━━━━━━━━━\u001b[0m\u001b[37m\u001b[0m \u001b[1m0s\u001b[0m 2ms/step - loss: 3.5694 - wine_quality_loss: 3.1749 - wine_quality_root_mean_squared_error: 1.7813 - wine_type_binary_accuracy: 0.8512 - wine_type_loss: 0.3946 - val_loss: 2.9623 - val_wine_quality_loss: 2.7032 - val_wine_quality_root_mean_squared_error: 1.6243 - val_wine_type_binary_accuracy: 0.9045 - val_wine_type_loss: 0.3239\n",
      "Epoch 5/40\n",
      "\u001b[1m138/138\u001b[0m \u001b[32m━━━━━━━━━━━━━━━━━━━━\u001b[0m\u001b[37m\u001b[0m \u001b[1m0s\u001b[0m 2ms/step - loss: 3.1052 - wine_quality_loss: 2.8141 - wine_quality_root_mean_squared_error: 1.6747 - wine_type_binary_accuracy: 0.9151 - wine_type_loss: 0.2916 - val_loss: 2.5756 - val_wine_quality_loss: 2.3977 - val_wine_quality_root_mean_squared_error: 1.5279 - val_wine_type_binary_accuracy: 0.9582 - val_wine_type_loss: 0.2412\n",
      "Epoch 6/40\n",
      "\u001b[1m138/138\u001b[0m \u001b[32m━━━━━━━━━━━━━━━━━━━━\u001b[0m\u001b[37m\u001b[0m \u001b[1m0s\u001b[0m 2ms/step - loss: 2.4852 - wine_quality_loss: 2.2641 - wine_quality_root_mean_squared_error: 1.5041 - wine_type_binary_accuracy: 0.9644 - wine_type_loss: 0.2211 - val_loss: 2.3201 - val_wine_quality_loss: 2.1918 - val_wine_quality_root_mean_squared_error: 1.4607 - val_wine_type_binary_accuracy: 0.9736 - val_wine_type_loss: 0.1867\n",
      "Epoch 7/40\n",
      "\u001b[1m138/138\u001b[0m \u001b[32m━━━━━━━━━━━━━━━━━━━━\u001b[0m\u001b[37m\u001b[0m \u001b[1m0s\u001b[0m 2ms/step - loss: 2.3757 - wine_quality_loss: 2.2018 - wine_quality_root_mean_squared_error: 1.4833 - wine_type_binary_accuracy: 0.9776 - wine_type_loss: 0.1739 - val_loss: 2.0996 - val_wine_quality_loss: 2.0075 - val_wine_quality_root_mean_squared_error: 1.3967 - val_wine_type_binary_accuracy: 0.9791 - val_wine_type_loss: 0.1489\n",
      "Epoch 8/40\n",
      "\u001b[1m138/138\u001b[0m \u001b[32m━━━━━━━━━━━━━━━━━━━━\u001b[0m\u001b[37m\u001b[0m \u001b[1m0s\u001b[0m 2ms/step - loss: 2.0741 - wine_quality_loss: 1.9355 - wine_quality_root_mean_squared_error: 1.3906 - wine_type_binary_accuracy: 0.9790 - wine_type_loss: 0.1387 - val_loss: 1.9485 - val_wine_quality_loss: 1.8881 - val_wine_quality_root_mean_squared_error: 1.3516 - val_wine_type_binary_accuracy: 0.9791 - val_wine_type_loss: 0.1217\n",
      "Epoch 9/40\n",
      "\u001b[1m138/138\u001b[0m \u001b[32m━━━━━━━━━━━━━━━━━━━━\u001b[0m\u001b[37m\u001b[0m \u001b[1m0s\u001b[0m 2ms/step - loss: 1.9948 - wine_quality_loss: 1.8777 - wine_quality_root_mean_squared_error: 1.3699 - wine_type_binary_accuracy: 0.9778 - wine_type_loss: 0.1170 - val_loss: 1.8046 - val_wine_quality_loss: 1.7569 - val_wine_quality_root_mean_squared_error: 1.3047 - val_wine_type_binary_accuracy: 0.9818 - val_wine_type_loss: 0.1023\n",
      "Epoch 10/40\n",
      "\u001b[1m138/138\u001b[0m \u001b[32m━━━━━━━━━━━━━━━━━━━━\u001b[0m\u001b[37m\u001b[0m \u001b[1m0s\u001b[0m 2ms/step - loss: 1.7886 - wine_quality_loss: 1.6898 - wine_quality_root_mean_squared_error: 1.2996 - wine_type_binary_accuracy: 0.9805 - wine_type_loss: 0.0989 - val_loss: 1.6849 - val_wine_quality_loss: 1.6451 - val_wine_quality_root_mean_squared_error: 1.2637 - val_wine_type_binary_accuracy: 0.9864 - val_wine_type_loss: 0.0879\n",
      "Epoch 11/40\n",
      "\u001b[1m138/138\u001b[0m \u001b[32m━━━━━━━━━━━━━━━━━━━━\u001b[0m\u001b[37m\u001b[0m \u001b[1m0s\u001b[0m 2ms/step - loss: 1.7277 - wine_quality_loss: 1.6365 - wine_quality_root_mean_squared_error: 1.2789 - wine_type_binary_accuracy: 0.9845 - wine_type_loss: 0.0911 - val_loss: 1.5850 - val_wine_quality_loss: 1.5523 - val_wine_quality_root_mean_squared_error: 1.2278 - val_wine_type_binary_accuracy: 0.9882 - val_wine_type_loss: 0.0775\n",
      "Epoch 12/40\n",
      "\u001b[1m138/138\u001b[0m \u001b[32m━━━━━━━━━━━━━━━━━━━━\u001b[0m\u001b[37m\u001b[0m \u001b[1m0s\u001b[0m 2ms/step - loss: 1.5861 - wine_quality_loss: 1.5099 - wine_quality_root_mean_squared_error: 1.2287 - wine_type_binary_accuracy: 0.9857 - wine_type_loss: 0.0761 - val_loss: 1.5020 - val_wine_quality_loss: 1.4787 - val_wine_quality_root_mean_squared_error: 1.1967 - val_wine_type_binary_accuracy: 0.9891 - val_wine_type_loss: 0.0696\n",
      "Epoch 13/40\n",
      "\u001b[1m138/138\u001b[0m \u001b[32m━━━━━━━━━━━━━━━━━━━━\u001b[0m\u001b[37m\u001b[0m \u001b[1m0s\u001b[0m 2ms/step - loss: 1.4924 - wine_quality_loss: 1.4186 - wine_quality_root_mean_squared_error: 1.1908 - wine_type_binary_accuracy: 0.9887 - wine_type_loss: 0.0739 - val_loss: 1.4240 - val_wine_quality_loss: 1.4027 - val_wine_quality_root_mean_squared_error: 1.1664 - val_wine_type_binary_accuracy: 0.9900 - val_wine_type_loss: 0.0633\n",
      "Epoch 14/40\n",
      "\u001b[1m138/138\u001b[0m \u001b[32m━━━━━━━━━━━━━━━━━━━━\u001b[0m\u001b[37m\u001b[0m \u001b[1m0s\u001b[0m 2ms/step - loss: 1.3722 - wine_quality_loss: 1.3149 - wine_quality_root_mean_squared_error: 1.1466 - wine_type_binary_accuracy: 0.9917 - wine_type_loss: 0.0573 - val_loss: 1.3631 - val_wine_quality_loss: 1.3448 - val_wine_quality_root_mean_squared_error: 1.1421 - val_wine_type_binary_accuracy: 0.9900 - val_wine_type_loss: 0.0584\n",
      "Epoch 15/40\n",
      "\u001b[1m138/138\u001b[0m \u001b[32m━━━━━━━━━━━━━━━━━━━━\u001b[0m\u001b[37m\u001b[0m \u001b[1m0s\u001b[0m 2ms/step - loss: 1.3150 - wine_quality_loss: 1.2564 - wine_quality_root_mean_squared_error: 1.1208 - wine_type_binary_accuracy: 0.9897 - wine_type_loss: 0.0585 - val_loss: 1.3050 - val_wine_quality_loss: 1.2907 - val_wine_quality_root_mean_squared_error: 1.1181 - val_wine_type_binary_accuracy: 0.9900 - val_wine_type_loss: 0.0546\n",
      "Epoch 16/40\n",
      "\u001b[1m138/138\u001b[0m \u001b[32m━━━━━━━━━━━━━━━━━━━━\u001b[0m\u001b[37m\u001b[0m \u001b[1m0s\u001b[0m 2ms/step - loss: 1.2572 - wine_quality_loss: 1.1989 - wine_quality_root_mean_squared_error: 1.0949 - wine_type_binary_accuracy: 0.9898 - wine_type_loss: 0.0583 - val_loss: 1.2433 - val_wine_quality_loss: 1.2269 - val_wine_quality_root_mean_squared_error: 1.0916 - val_wine_type_binary_accuracy: 0.9909 - val_wine_type_loss: 0.0515\n",
      "Epoch 17/40\n",
      "\u001b[1m138/138\u001b[0m \u001b[32m━━━━━━━━━━━━━━━━━━━━\u001b[0m\u001b[37m\u001b[0m \u001b[1m0s\u001b[0m 2ms/step - loss: 1.1875 - wine_quality_loss: 1.1432 - wine_quality_root_mean_squared_error: 1.0692 - wine_type_binary_accuracy: 0.9915 - wine_type_loss: 0.0443 - val_loss: 1.1943 - val_wine_quality_loss: 1.1796 - val_wine_quality_root_mean_squared_error: 1.0701 - val_wine_type_binary_accuracy: 0.9918 - val_wine_type_loss: 0.0490\n",
      "Epoch 18/40\n",
      "\u001b[1m138/138\u001b[0m \u001b[32m━━━━━━━━━━━━━━━━━━━━\u001b[0m\u001b[37m\u001b[0m \u001b[1m0s\u001b[0m 2ms/step - loss: 1.2015 - wine_quality_loss: 1.1522 - wine_quality_root_mean_squared_error: 1.0730 - wine_type_binary_accuracy: 0.9901 - wine_type_loss: 0.0493 - val_loss: 1.1536 - val_wine_quality_loss: 1.1381 - val_wine_quality_root_mean_squared_error: 1.0519 - val_wine_type_binary_accuracy: 0.9927 - val_wine_type_loss: 0.0468\n",
      "Epoch 19/40\n",
      "\u001b[1m138/138\u001b[0m \u001b[32m━━━━━━━━━━━━━━━━━━━━\u001b[0m\u001b[37m\u001b[0m \u001b[1m0s\u001b[0m 2ms/step - loss: 1.1142 - wine_quality_loss: 1.0645 - wine_quality_root_mean_squared_error: 1.0317 - wine_type_binary_accuracy: 0.9911 - wine_type_loss: 0.0497 - val_loss: 1.1247 - val_wine_quality_loss: 1.1116 - val_wine_quality_root_mean_squared_error: 1.0390 - val_wine_type_binary_accuracy: 0.9927 - val_wine_type_loss: 0.0449\n",
      "Epoch 20/40\n",
      "\u001b[1m138/138\u001b[0m \u001b[32m━━━━━━━━━━━━━━━━━━━━\u001b[0m\u001b[37m\u001b[0m \u001b[1m0s\u001b[0m 2ms/step - loss: 1.0757 - wine_quality_loss: 1.0290 - wine_quality_root_mean_squared_error: 1.0141 - wine_type_binary_accuracy: 0.9899 - wine_type_loss: 0.0466 - val_loss: 1.0793 - val_wine_quality_loss: 1.0648 - val_wine_quality_root_mean_squared_error: 1.0176 - val_wine_type_binary_accuracy: 0.9927 - val_wine_type_loss: 0.0435\n",
      "Epoch 21/40\n",
      "\u001b[1m138/138\u001b[0m \u001b[32m━━━━━━━━━━━━━━━━━━━━\u001b[0m\u001b[37m\u001b[0m \u001b[1m0s\u001b[0m 2ms/step - loss: 1.0234 - wine_quality_loss: 0.9737 - wine_quality_root_mean_squared_error: 0.9867 - wine_type_binary_accuracy: 0.9899 - wine_type_loss: 0.0497 - val_loss: 1.0574 - val_wine_quality_loss: 1.0432 - val_wine_quality_root_mean_squared_error: 1.0074 - val_wine_type_binary_accuracy: 0.9936 - val_wine_type_loss: 0.0421\n",
      "Epoch 22/40\n",
      "\u001b[1m138/138\u001b[0m \u001b[32m━━━━━━━━━━━━━━━━━━━━\u001b[0m\u001b[37m\u001b[0m \u001b[1m0s\u001b[0m 2ms/step - loss: 0.9883 - wine_quality_loss: 0.9528 - wine_quality_root_mean_squared_error: 0.9761 - wine_type_binary_accuracy: 0.9934 - wine_type_loss: 0.0354 - val_loss: 1.0234 - val_wine_quality_loss: 1.0093 - val_wine_quality_root_mean_squared_error: 0.9910 - val_wine_type_binary_accuracy: 0.9936 - val_wine_type_loss: 0.0410\n",
      "Epoch 23/40\n",
      "\u001b[1m138/138\u001b[0m \u001b[32m━━━━━━━━━━━━━━━━━━━━\u001b[0m\u001b[37m\u001b[0m \u001b[1m0s\u001b[0m 2ms/step - loss: 1.0021 - wine_quality_loss: 0.9521 - wine_quality_root_mean_squared_error: 0.9757 - wine_type_binary_accuracy: 0.9910 - wine_type_loss: 0.0500 - val_loss: 1.0026 - val_wine_quality_loss: 0.9888 - val_wine_quality_root_mean_squared_error: 0.9811 - val_wine_type_binary_accuracy: 0.9936 - val_wine_type_loss: 0.0398\n",
      "Epoch 24/40\n",
      "\u001b[1m138/138\u001b[0m \u001b[32m━━━━━━━━━━━━━━━━━━━━\u001b[0m\u001b[37m\u001b[0m \u001b[1m0s\u001b[0m 2ms/step - loss: 0.9351 - wine_quality_loss: 0.8915 - wine_quality_root_mean_squared_error: 0.9441 - wine_type_binary_accuracy: 0.9899 - wine_type_loss: 0.0435 - val_loss: 0.9985 - val_wine_quality_loss: 0.9867 - val_wine_quality_root_mean_squared_error: 0.9794 - val_wine_type_binary_accuracy: 0.9936 - val_wine_type_loss: 0.0388\n",
      "Epoch 25/40\n",
      "\u001b[1m138/138\u001b[0m \u001b[32m━━━━━━━━━━━━━━━━━━━━\u001b[0m\u001b[37m\u001b[0m \u001b[1m0s\u001b[0m 2ms/step - loss: 0.9254 - wine_quality_loss: 0.8901 - wine_quality_root_mean_squared_error: 0.9433 - wine_type_binary_accuracy: 0.9947 - wine_type_loss: 0.0353 - val_loss: 0.9552 - val_wine_quality_loss: 0.9410 - val_wine_quality_root_mean_squared_error: 0.9574 - val_wine_type_binary_accuracy: 0.9945 - val_wine_type_loss: 0.0380\n",
      "Epoch 26/40\n",
      "\u001b[1m138/138\u001b[0m \u001b[32m━━━━━━━━━━━━━━━━━━━━\u001b[0m\u001b[37m\u001b[0m \u001b[1m0s\u001b[0m 2ms/step - loss: 0.8913 - wine_quality_loss: 0.8558 - wine_quality_root_mean_squared_error: 0.9245 - wine_type_binary_accuracy: 0.9914 - wine_type_loss: 0.0355 - val_loss: 0.9364 - val_wine_quality_loss: 0.9188 - val_wine_quality_root_mean_squared_error: 0.9479 - val_wine_type_binary_accuracy: 0.9945 - val_wine_type_loss: 0.0375\n",
      "Epoch 27/40\n",
      "\u001b[1m138/138\u001b[0m \u001b[32m━━━━━━━━━━━━━━━━━━━━\u001b[0m\u001b[37m\u001b[0m \u001b[1m0s\u001b[0m 2ms/step - loss: 0.8877 - wine_quality_loss: 0.8468 - wine_quality_root_mean_squared_error: 0.9201 - wine_type_binary_accuracy: 0.9906 - wine_type_loss: 0.0409 - val_loss: 0.9209 - val_wine_quality_loss: 0.9061 - val_wine_quality_root_mean_squared_error: 0.9399 - val_wine_type_binary_accuracy: 0.9945 - val_wine_type_loss: 0.0370\n",
      "Epoch 28/40\n",
      "\u001b[1m138/138\u001b[0m \u001b[32m━━━━━━━━━━━━━━━━━━━━\u001b[0m\u001b[37m\u001b[0m \u001b[1m0s\u001b[0m 2ms/step - loss: 0.8741 - wine_quality_loss: 0.8380 - wine_quality_root_mean_squared_error: 0.9153 - wine_type_binary_accuracy: 0.9939 - wine_type_loss: 0.0362 - val_loss: 0.9186 - val_wine_quality_loss: 0.9023 - val_wine_quality_root_mean_squared_error: 0.9391 - val_wine_type_binary_accuracy: 0.9945 - val_wine_type_loss: 0.0362\n",
      "Epoch 29/40\n",
      "\u001b[1m138/138\u001b[0m \u001b[32m━━━━━━━━━━━━━━━━━━━━\u001b[0m\u001b[37m\u001b[0m \u001b[1m0s\u001b[0m 2ms/step - loss: 0.8832 - wine_quality_loss: 0.8450 - wine_quality_root_mean_squared_error: 0.9190 - wine_type_binary_accuracy: 0.9911 - wine_type_loss: 0.0382 - val_loss: 0.9062 - val_wine_quality_loss: 0.8890 - val_wine_quality_root_mean_squared_error: 0.9328 - val_wine_type_binary_accuracy: 0.9945 - val_wine_type_loss: 0.0357\n",
      "Epoch 30/40\n",
      "\u001b[1m138/138\u001b[0m \u001b[32m━━━━━━━━━━━━━━━━━━━━\u001b[0m\u001b[37m\u001b[0m \u001b[1m0s\u001b[0m 2ms/step - loss: 0.8304 - wine_quality_loss: 0.7937 - wine_quality_root_mean_squared_error: 0.8907 - wine_type_binary_accuracy: 0.9933 - wine_type_loss: 0.0368 - val_loss: 0.8940 - val_wine_quality_loss: 0.8738 - val_wine_quality_root_mean_squared_error: 0.9264 - val_wine_type_binary_accuracy: 0.9945 - val_wine_type_loss: 0.0353\n",
      "Epoch 31/40\n",
      "\u001b[1m138/138\u001b[0m \u001b[32m━━━━━━━━━━━━━━━━━━━━\u001b[0m\u001b[37m\u001b[0m \u001b[1m0s\u001b[0m 2ms/step - loss: 0.8741 - wine_quality_loss: 0.8355 - wine_quality_root_mean_squared_error: 0.9138 - wine_type_binary_accuracy: 0.9940 - wine_type_loss: 0.0386 - val_loss: 0.8773 - val_wine_quality_loss: 0.8589 - val_wine_quality_root_mean_squared_error: 0.9176 - val_wine_type_binary_accuracy: 0.9945 - val_wine_type_loss: 0.0349\n",
      "Epoch 32/40\n",
      "\u001b[1m138/138\u001b[0m \u001b[32m━━━━━━━━━━━━━━━━━━━━\u001b[0m\u001b[37m\u001b[0m \u001b[1m0s\u001b[0m 2ms/step - loss: 0.8210 - wine_quality_loss: 0.7888 - wine_quality_root_mean_squared_error: 0.8880 - wine_type_binary_accuracy: 0.9935 - wine_type_loss: 0.0322 - val_loss: 0.8678 - val_wine_quality_loss: 0.8496 - val_wine_quality_root_mean_squared_error: 0.9127 - val_wine_type_binary_accuracy: 0.9945 - val_wine_type_loss: 0.0344\n",
      "Epoch 33/40\n",
      "\u001b[1m138/138\u001b[0m \u001b[32m━━━━━━━━━━━━━━━━━━━━\u001b[0m\u001b[37m\u001b[0m \u001b[1m0s\u001b[0m 2ms/step - loss: 0.8079 - wine_quality_loss: 0.7771 - wine_quality_root_mean_squared_error: 0.8815 - wine_type_binary_accuracy: 0.9947 - wine_type_loss: 0.0308 - val_loss: 0.8616 - val_wine_quality_loss: 0.8403 - val_wine_quality_root_mean_squared_error: 0.9095 - val_wine_type_binary_accuracy: 0.9945 - val_wine_type_loss: 0.0341\n",
      "Epoch 34/40\n",
      "\u001b[1m138/138\u001b[0m \u001b[32m━━━━━━━━━━━━━━━━━━━━\u001b[0m\u001b[37m\u001b[0m \u001b[1m0s\u001b[0m 2ms/step - loss: 0.8112 - wine_quality_loss: 0.7842 - wine_quality_root_mean_squared_error: 0.8854 - wine_type_binary_accuracy: 0.9949 - wine_type_loss: 0.0271 - val_loss: 0.8515 - val_wine_quality_loss: 0.8327 - val_wine_quality_root_mean_squared_error: 0.9040 - val_wine_type_binary_accuracy: 0.9945 - val_wine_type_loss: 0.0339\n",
      "Epoch 35/40\n",
      "\u001b[1m138/138\u001b[0m \u001b[32m━━━━━━━━━━━━━━━━━━━━\u001b[0m\u001b[37m\u001b[0m \u001b[1m0s\u001b[0m 2ms/step - loss: 0.7934 - wine_quality_loss: 0.7649 - wine_quality_root_mean_squared_error: 0.8745 - wine_type_binary_accuracy: 0.9941 - wine_type_loss: 0.0285 - val_loss: 0.8478 - val_wine_quality_loss: 0.8285 - val_wine_quality_root_mean_squared_error: 0.9021 - val_wine_type_binary_accuracy: 0.9945 - val_wine_type_loss: 0.0335\n",
      "Epoch 36/40\n",
      "\u001b[1m138/138\u001b[0m \u001b[32m━━━━━━━━━━━━━━━━━━━━\u001b[0m\u001b[37m\u001b[0m \u001b[1m1s\u001b[0m 3ms/step - loss: 0.7840 - wine_quality_loss: 0.7540 - wine_quality_root_mean_squared_error: 0.8683 - wine_type_binary_accuracy: 0.9936 - wine_type_loss: 0.0300 - val_loss: 0.8406 - val_wine_quality_loss: 0.8210 - val_wine_quality_root_mean_squared_error: 0.8983 - val_wine_type_binary_accuracy: 0.9945 - val_wine_type_loss: 0.0332\n",
      "Epoch 37/40\n",
      "\u001b[1m138/138\u001b[0m \u001b[32m━━━━━━━━━━━━━━━━━━━━\u001b[0m\u001b[37m\u001b[0m \u001b[1m1s\u001b[0m 2ms/step - loss: 0.7514 - wine_quality_loss: 0.7251 - wine_quality_root_mean_squared_error: 0.8512 - wine_type_binary_accuracy: 0.9947 - wine_type_loss: 0.0262 - val_loss: 0.8404 - val_wine_quality_loss: 0.8194 - val_wine_quality_root_mean_squared_error: 0.8983 - val_wine_type_binary_accuracy: 0.9945 - val_wine_type_loss: 0.0330\n",
      "Epoch 38/40\n",
      "\u001b[1m138/138\u001b[0m \u001b[32m━━━━━━━━━━━━━━━━━━━━\u001b[0m\u001b[37m\u001b[0m \u001b[1m0s\u001b[0m 2ms/step - loss: 0.7701 - wine_quality_loss: 0.7267 - wine_quality_root_mean_squared_error: 0.8523 - wine_type_binary_accuracy: 0.9907 - wine_type_loss: 0.0435 - val_loss: 0.8241 - val_wine_quality_loss: 0.8046 - val_wine_quality_root_mean_squared_error: 0.8893 - val_wine_type_binary_accuracy: 0.9945 - val_wine_type_loss: 0.0328\n",
      "Epoch 39/40\n",
      "\u001b[1m138/138\u001b[0m \u001b[32m━━━━━━━━━━━━━━━━━━━━\u001b[0m\u001b[37m\u001b[0m \u001b[1m0s\u001b[0m 2ms/step - loss: 0.7512 - wine_quality_loss: 0.7209 - wine_quality_root_mean_squared_error: 0.8489 - wine_type_binary_accuracy: 0.9931 - wine_type_loss: 0.0303 - val_loss: 0.8251 - val_wine_quality_loss: 0.8030 - val_wine_quality_root_mean_squared_error: 0.8900 - val_wine_type_binary_accuracy: 0.9945 - val_wine_type_loss: 0.0325\n",
      "Epoch 40/40\n",
      "\u001b[1m138/138\u001b[0m \u001b[32m━━━━━━━━━━━━━━━━━━━━\u001b[0m\u001b[37m\u001b[0m \u001b[1m0s\u001b[0m 2ms/step - loss: 0.7680 - wine_quality_loss: 0.7394 - wine_quality_root_mean_squared_error: 0.8598 - wine_type_binary_accuracy: 0.9936 - wine_type_loss: 0.0286 - val_loss: 0.8215 - val_wine_quality_loss: 0.8008 - val_wine_quality_root_mean_squared_error: 0.8881 - val_wine_type_binary_accuracy: 0.9945 - val_wine_type_loss: 0.0323\n"
     ]
    }
   ],
   "source": [
    "history = model.fit(norm_train_X, train_Y, epochs = 40, validation_data=(norm_val_X, val_Y))"
   ]
  },
  {
   "cell_type": "code",
   "execution_count": 28,
   "metadata": {
    "colab": {},
    "colab_type": "code",
    "id": "CubF2J2gSf6q"
   },
   "outputs": [
    {
     "name": "stdout",
     "output_type": "stream",
     "text": [
      "\u001b[1m35/35\u001b[0m \u001b[32m━━━━━━━━━━━━━━━━━━━━\u001b[0m\u001b[37m\u001b[0m \u001b[1m0s\u001b[0m 2ms/step - loss: 0.8015 - wine_quality_loss: 0.7673 - wine_quality_root_mean_squared_error: 0.8751 - wine_type_binary_accuracy: 0.9951 - wine_type_loss: 0.0349\n",
      "\n",
      "loss: 0.8214722871780396\n",
      "wine_quality_loss: 0.800775945186615\n",
      "wine_type_loss: 0.032298743724823\n",
      "wine_quality_rmse: 0.8881054520606995\n",
      "wine_type_accuracy: 0.9945454597473145\n"
     ]
    }
   ],
   "source": [
    "# Evaluemos el modelo utilizando las métricas definias de error y precisión\n",
    "loss, wine_quality_loss, wine_type_loss, wine_quality_rmse, wine_type_accuracy = model.evaluate(x=norm_val_X, y=val_Y)\n",
    "\n",
    "print()\n",
    "print(f'loss: {loss}')\n",
    "print(f'wine_quality_loss: {wine_quality_loss}')\n",
    "print(f'wine_type_loss: {wine_type_loss}')\n",
    "print(f'wine_quality_rmse: {wine_quality_rmse}')\n",
    "print(f'wine_type_accuracy: {wine_type_accuracy}')\n"
   ]
  },
  {
   "cell_type": "markdown",
   "metadata": {},
   "source": [
    "Nuestro modelo logra clasificar con mayor precisión el tipo de vino que su calidad.\n",
    "Esto se debe a que tenermos poco datos sobre vinos de calidad 3 y 9 que generan ruido y afectan su entrenamiento."
   ]
  },
  {
   "cell_type": "markdown",
   "metadata": {
    "colab_type": "text",
    "id": "gPtTGAP4usnm"
   },
   "source": [
    "## 5.1 Analizar comportamiento\n",
    "\n",
    "Veamos con más detalle cómo está funcionando nuestras predicciones.\n",
    "Visualizaremos nuestras métricas de error y veremos que tan efectivas son las predicciones del modelo."
   ]
  },
  {
   "cell_type": "code",
   "execution_count": 29,
   "metadata": {
    "colab": {},
    "colab_type": "code",
    "id": "tBq9PEeAaW-Y"
   },
   "outputs": [
    {
     "name": "stdout",
     "output_type": "stream",
     "text": [
      "\u001b[1m43/43\u001b[0m \u001b[32m━━━━━━━━━━━━━━━━━━━━\u001b[0m\u001b[37m\u001b[0m \u001b[1m0s\u001b[0m 1ms/step \n"
     ]
    }
   ],
   "source": [
    "predictions = model.predict(norm_test_X)\n",
    "quality_pred = predictions[0]\n",
    "type_pred = predictions[1]"
   ]
  },
  {
   "cell_type": "code",
   "execution_count": null,
   "metadata": {
    "colab": {},
    "colab_type": "code",
    "id": "62gEOFUhn6aQ"
   },
   "outputs": [],
   "source": [
    "# Definimos fórmula para crear una gráfica lineal del cualquiera de nuestras métricas\n",
    "def plot_metrics(metric_name, title, ylim=5):\n",
    "    plt.title(title)\n",
    "    plt.ylim(0,ylim)\n",
    "    plt.plot(history.history[metric_name],color='blue',label=metric_name)\n",
    "    plt.plot(history.history['val_' + metric_name],color='green',label='val_' + metric_name)\n"
   ]
  },
  {
   "cell_type": "code",
   "execution_count": null,
   "metadata": {
    "colab": {},
    "colab_type": "code",
    "id": "6rfgSx7uz5dj"
   },
   "outputs": [],
   "source": [
    "# Definimos fórmula para crear una matrix de confución entre los objetivos reales y las predicciones\n",
    "def plot_confusion_matrix(y_true, y_pred, title='', labels=[0,1]):\n",
    "    cm = confusion_matrix(test_Y[1], np.round(type_pred), labels=[0, 1])\n",
    "    disp = ConfusionMatrixDisplay(confusion_matrix=cm,\n",
    "                                  display_labels=[0, 1])\n",
    "    disp.plot(values_format='d');"
   ]
  },
  {
   "cell_type": "code",
   "execution_count": null,
   "metadata": {
    "colab": {},
    "colab_type": "code",
    "id": "dfVLIqi017Vf"
   },
   "outputs": [],
   "source": [
    "# Definimos fórmula para crear un gráfico de deiperción entre objetivos reales y predicciones del modelo\n",
    "def plot_diff(y_true, y_pred, title = '' ):\n",
    "    plt.scatter(y_true, y_pred)\n",
    "    plt.title(title)\n",
    "    plt.xlabel('True Values')\n",
    "    plt.ylabel('Predictions')\n",
    "    plt.axis('equal')\n",
    "    plt.axis('square')\n",
    "    plt.plot([-100, 100], [-100, 100])\n",
    "    return plt"
   ]
  },
  {
   "cell_type": "code",
   "execution_count": 35,
   "metadata": {
    "colab": {},
    "colab_type": "code",
    "id": "f3MwZ5J1pOfj"
   },
   "outputs": [
    {
     "data": {
      "image/png": "[encoded data removed]",
      "text/plain": [
       "<Figure size 640x480 with 1 Axes>"
      ]
     },
     "metadata": {},
     "output_type": "display_data"
    }
   ],
   "source": [
    "plot_metrics('wine_quality_root_mean_squared_error', 'RMSE', ylim=2)"
   ]
  },
  {
   "cell_type": "markdown",
   "metadata": {},
   "source": [
    "En esta primera gráfica podemos observar como entrena el modelo e itera sobre el error RMSE de la calidad del modelo.\n",
    "Podemos observar que la los datastes de entrenamiento(azul) y de validación(verde), entrenan de manera similar, teniendo un descenso cercano a 1.\n",
    "Esto significa que hay una desviación de calidad de 1 punto al realizar la predicción, lo cual causa ruido ya que es 1 categorñia de calidad dentro de la desviación."
   ]
  },
  {
   "cell_type": "code",
   "execution_count": 36,
   "metadata": {
    "colab": {},
    "colab_type": "code",
    "id": "QIAxEezCppnd"
   },
   "outputs": [
    {
     "data": {
      "image/png": "[encoded data removed]",
      "text/plain": [
       "<Figure size 640x480 with 1 Axes>"
      ]
     },
     "metadata": {},
     "output_type": "display_data"
    }
   ],
   "source": [
    "plot_metrics('wine_type_loss', 'Wine Type Loss', ylim=0.2)"
   ]
  },
  {
   "cell_type": "markdown",
   "metadata": {},
   "source": [
    "En esta gráfica vemos el error dentro de la calificación pr tipo de vino.\n",
    "El data set de entrenamiento(azul) y el de validación(verde) iteran de manera similar llegando a un error promedio de 0.3\n",
    "Esta desviación nos indicción nos indica que tenemos un pequeño error al predecir el tipo de vino."
   ]
  },
  {
   "cell_type": "code",
   "execution_count": 37,
   "metadata": {
    "colab": {},
    "colab_type": "code",
    "id": "C3hvTYxIaf3n"
   },
   "outputs": [
    {
     "data": {
      "image/png": "[encoded data removed]",
      "text/plain": [
       "<Figure size 640x480 with 2 Axes>"
      ]
     },
     "metadata": {},
     "output_type": "display_data"
    }
   ],
   "source": [
    "plot_confusion_matrix(test_Y[1], np.round(type_pred), title='Wine Type', labels = [0, 1])"
   ]
  },
  {
   "cell_type": "markdown",
   "metadata": {},
   "source": [
    "Usamos una matrix de confusión para ver que tan buena es nuestra clasificación por tipo.\n",
    "Esto nos ayuda a visualizar los verdaderos positivos contra los falsos positivos.\n",
    "Podemos ver que en la gram mayoría de los casos la clasificación es efectiva, con sólo 12 casos entro del modelo teniendo información errónea."
   ]
  },
  {
   "cell_type": "code",
   "execution_count": 39,
   "metadata": {
    "colab": {},
    "colab_type": "code",
    "id": "GW91ym8P2I5y"
   },
   "outputs": [
    {
     "data": {
      "image/png": "[encoded data removed]",
      "text/plain": [
       "<Figure size 640x480 with 1 Axes>"
      ]
     },
     "metadata": {},
     "output_type": "display_data"
    }
   ],
   "source": [
    "scatter_plot = plot_diff(test_Y[0], quality_pred, title='Quality')"
   ]
  },
  {
   "cell_type": "markdown",
   "metadata": {},
   "source": [
    "En esta gráfica de disperción podemos observar el contraste de la predicción positiva contra los objetivos reales.\n",
    "Al tener poca información de calidad de vinos de la categoría 3 y 9 causa más ruido dentro de nuestra prediccón.\n",
    "Podemos observar que en las categorías 3 y 9 las predicciones en la mayoría de los casos no son efectivas.\n",
    "Esto nos puede indicar que estas categorías están afectando la predicción del modelo y su precisión en clasificar por categoría."
   ]
  },
  {
   "cell_type": "markdown",
   "metadata": {},
   "source": [
    "# 6. Conclusiones\n",
    "\n",
    "En este proyecto contruimos un modelo de predicción para tipo y calidad de vinos.\n",
    "En donde creamos un modelo personalizado que nos diera dos outputs como resultado.\n",
    "\n",
    "Al tratar la data nos dimos cuenta que teniamos pocas observaciones de vinos para las categorías 3, 4, 8 y 9.\n",
    "Por lo cual usamos la técnica de bootstrapping para aumentar las observaciones de las categorías raras.\n",
    "\n",
    "Estos nos resulto efectivo para las categorías 4 y 8, para las categorías 3 y 9 no fue suficiente.\n",
    "\n",
    "Quisimos entrenar el modelo con la data disponible para no discriminar categorías dentro del modelo, y esto resultó afectar las predicciones y precisión del modelo.\n",
    "\n",
    "En un caso real, recomendaría no usar las categorías 3 y 9 para el entrenamiento del modelo o en su caso conseguir más observaciones de estas categorías para el modelo.\n",
    "También crearía modelo que excluyan estas categorías y presentar las diferencias de entrenamiento.\n",
    "\n",
    "Este proyecto sirve para demostrar el uso de un modelo pèrsonalizado que tengas como resultados dos outputs distintos."
   ]
  }
 ],
 "metadata": {
  "colab": {
   "include_colab_link": true,
   "name": "exercise-answer.ipynb",
   "provenance": []
  },
  "kernelspec": {
   "display_name": "Python 3",
   "language": "python",
   "name": "python3"
  },
  "language_info": {
   "codemirror_mode": {
    "name": "ipython",
    "version": 3
   },
   "file_extension": ".py",
   "mimetype": "text/x-python",
   "name": "python",
   "nbconvert_exporter": "python",
   "pygments_lexer": "ipython3",
   "version": "3.12.3"
  }
 },
 "nbformat": 4,
 "nbformat_minor": 4
}
